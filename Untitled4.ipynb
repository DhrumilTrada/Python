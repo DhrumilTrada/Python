{
 "cells": [
  {
   "cell_type": "code",
   "execution_count": 1,
   "metadata": {},
   "outputs": [
    {
     "name": "stdout",
     "output_type": "stream",
     "text": [
      "-4\n"
     ]
    }
   ],
   "source": [
    "print(-2**2)"
   ]
  },
  {
   "cell_type": "code",
   "execution_count": 2,
   "metadata": {},
   "outputs": [
    {
     "name": "stdout",
     "output_type": "stream",
     "text": [
      "False\n"
     ]
    }
   ],
   "source": [
    "x=6\n",
    "print(not x)"
   ]
  },
  {
   "cell_type": "code",
   "execution_count": 3,
   "metadata": {},
   "outputs": [
    {
     "name": "stdout",
     "output_type": "stream",
     "text": [
      "True\n"
     ]
    }
   ],
   "source": [
    "print('p' in \"python\")"
   ]
  },
  {
   "cell_type": "code",
   "execution_count": 4,
   "metadata": {},
   "outputs": [
    {
     "name": "stdout",
     "output_type": "stream",
     "text": [
      "True\n"
     ]
    }
   ],
   "source": [
    "print(1 in [1,2,3])"
   ]
  },
  {
   "cell_type": "code",
   "execution_count": 5,
   "metadata": {},
   "outputs": [
    {
     "name": "stdout",
     "output_type": "stream",
     "text": [
      "1\n"
     ]
    }
   ],
   "source": [
    "print(0 or \"hello\" and 1)"
   ]
  },
  {
   "cell_type": "code",
   "execution_count": 10,
   "metadata": {},
   "outputs": [
    {
     "name": "stdout",
     "output_type": "stream",
     "text": [
      "Enter side 1 : 5\n",
      "Enter side 2 : 5\n",
      "Enter side 3 : 5\n",
      "The area of triange with given sides is  10.825317547305483\n"
     ]
    }
   ],
   "source": [
    "##wap to find area of a triangle\n",
    "side_1=int(input(\"Enter side 1 : \"))\n",
    "side_2=int(input(\"Enter side 2 : \"))\n",
    "side_3=int(input(\"Enter side 3 : \"))\n",
    "s=(side_1+side_2+side_3)/2\n",
    "area=(s*(s-side_1)*(s-side_2)*(s-side_3))**(1/2)\n",
    "print(\"The area of triange with given sides is \",area)"
   ]
  },
  {
   "cell_type": "code",
   "execution_count": 6,
   "metadata": {},
   "outputs": [
    {
     "name": "stdout",
     "output_type": "stream",
     "text": [
      "Enter no of days : 398\n",
      "years :  1  months :  1  days :  3\n"
     ]
    }
   ],
   "source": [
    "##wap to convert a given number of days into years, months and days\n",
    "days=int(input(\"Enter no of days : \"))\n",
    "years=int(days/365)\n",
    "days=int(days%365)\n",
    "months=int(days/30)\n",
    "days=days%30\n",
    "print(\"years : \",years ,\" months : \",months ,\" days : \", days)"
   ]
  },
  {
   "cell_type": "code",
   "execution_count": 7,
   "metadata": {},
   "outputs": [
    {
     "name": "stdout",
     "output_type": "stream",
     "text": [
      "x is positive\n"
     ]
    }
   ],
   "source": [
    "x=5\n",
    "if x>0 : \n",
    "    print(\"x is positive\")"
   ]
  },
  {
   "cell_type": "code",
   "execution_count": 10,
   "metadata": {},
   "outputs": [
    {
     "name": "stdout",
     "output_type": "stream",
     "text": [
      "x is ZERO\n"
     ]
    }
   ],
   "source": [
    "x=0\n",
    "if x>0 :\n",
    "    print(\"x is +ve\")\n",
    "elif x==0 : \n",
    "    print(\"x is ZERO\")\n",
    "else :\n",
    "    print(\"x is -ve\")"
   ]
  },
  {
   "cell_type": "code",
   "execution_count": null,
   "metadata": {},
   "outputs": [],
   "source": []
  }
 ],
 "metadata": {
  "kernelspec": {
   "display_name": "Python 3",
   "language": "python",
   "name": "python3"
  },
  "language_info": {
   "codemirror_mode": {
    "name": "ipython",
    "version": 3
   },
   "file_extension": ".py",
   "mimetype": "text/x-python",
   "name": "python",
   "nbconvert_exporter": "python",
   "pygments_lexer": "ipython3",
   "version": "3.8.5"
  }
 },
 "nbformat": 4,
 "nbformat_minor": 4
}
